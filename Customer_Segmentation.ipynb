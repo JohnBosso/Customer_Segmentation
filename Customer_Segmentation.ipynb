{
 "cells": [
  {
   "cell_type": "markdown",
   "id": "43cde1d1",
   "metadata": {},
   "source": [
    "Classification Model"
   ]
  },
  {
   "cell_type": "code",
   "execution_count": null,
   "id": "86d119ee",
   "metadata": {},
   "outputs": [],
   "source": [
    "import pandas as pd"
   ]
  },
  {
   "cell_type": "code",
   "execution_count": null,
   "id": "fee10976",
   "metadata": {},
   "outputs": [],
   "source": [
    "df = pd.read_csv(r\"C:\\Users\\John\\projects\\Personal_Projects\\online_retail_II.csv\")\n",
    "df.head()"
   ]
  },
  {
   "cell_type": "code",
   "execution_count": null,
   "id": "19863496",
   "metadata": {},
   "outputs": [],
   "source": [
    "print(df.shape)\n",
    "df.isna().sum()"
   ]
  },
  {
   "cell_type": "code",
   "execution_count": null,
   "id": "d0ff3abb",
   "metadata": {},
   "outputs": [],
   "source": [
    "df.dropna(inplace=True)\n",
    "print(df.shape)\n",
    "df.isna().sum()"
   ]
  },
  {
   "cell_type": "code",
   "execution_count": null,
   "id": "ba47a87b",
   "metadata": {},
   "outputs": [],
   "source": [
    "df = df[df[\"Quantity\"] > 0]\n",
    "df.head()"
   ]
  },
  {
   "cell_type": "code",
   "execution_count": null,
   "id": "54a11785",
   "metadata": {},
   "outputs": [],
   "source": [
    "import matplotlib.pyplot as plt"
   ]
  },
  {
   "cell_type": "code",
   "execution_count": null,
   "id": "4ce351ae",
   "metadata": {},
   "outputs": [],
   "source": [
    "def make_year(dateyear):\n",
    "    return dateyear[:4]\n",
    "\n",
    "def make_month(dateyear):\n",
    "    return dateyear[5:7]\n",
    "\n",
    "\n",
    "\n",
    "df[\"Year\"] = df[\"InvoiceDate\"].apply(make_year)\n",
    "df[\"Month\"] = df[\"InvoiceDate\"].apply(make_month)\n",
    "df[\"Total Sales\"] = df[\"Price\"]*df[\"Quantity\"]\n",
    "df.head()"
   ]
  },
  {
   "cell_type": "code",
   "execution_count": null,
   "id": "0fd32367",
   "metadata": {},
   "outputs": [],
   "source": [
    "country_counts = df['Country'].value_counts()[:5]\n",
    "country_counts.plot(kind=\"bar\", figsize=(10,5))\n",
    "plt.xlabel('Country')\n",
    "plt.ylabel('Frequency')\n",
    "plt.title('Distribution of Orders by Country')\n",
    "plt.xticks(rotation=45)"
   ]
  },
  {
   "cell_type": "code",
   "execution_count": null,
   "id": "3c1e0ac2",
   "metadata": {},
   "outputs": [],
   "source": [
    "description = df[\"Description\"].value_counts().head(10)\n",
    "description.plot(kind=\"bar\", figsize=(10,5))\n",
    "plt.xlabel('Customer')\n",
    "plt.ylabel('Frequency')\n",
    "plt.title('Distribution of Orders by Customer')"
   ]
  },
  {
   "cell_type": "code",
   "execution_count": null,
   "id": "b83e8db1",
   "metadata": {},
   "outputs": [],
   "source": [
    "months_date = df[[\"Month\"]].value_counts().sort_index(ascending=True)\n",
    "months_date.plot(kind=\"bar\", figsize=(10,5))\n",
    "plt.xlabel('Month')\n",
    "plt.ylabel('Frequency')\n",
    "plt.title('Distribution of Orders by Customer')"
   ]
  },
  {
   "cell_type": "code",
   "execution_count": null,
   "id": "245ff92c",
   "metadata": {},
   "outputs": [],
   "source": [
    "sales_value = df.groupby(\"Customer ID\")[\"Total Sales\"].sum().sort_index(ascending=True).reset_index()\n",
    "sales_value"
   ]
  },
  {
   "cell_type": "code",
   "execution_count": null,
   "id": "e7e13ef2",
   "metadata": {},
   "outputs": [],
   "source": [
    "frequency = df[\"Customer ID\"].value_counts().sort_index(ascending=True).reset_index()\n",
    "frequency"
   ]
  },
  {
   "cell_type": "code",
   "execution_count": null,
   "id": "ce5ef62c",
   "metadata": {},
   "outputs": [],
   "source": [
    "df[\"InvoiceDate\"] = pd.to_datetime(df[\"InvoiceDate\"])  \n",
    "recent_date = df[\"InvoiceDate\"].max() + pd.Timedelta(days=1)"
   ]
  },
  {
   "cell_type": "code",
   "execution_count": null,
   "id": "3ab2dce9",
   "metadata": {},
   "outputs": [],
   "source": [
    "cur_date = df.groupby(\"Customer ID\")[\"InvoiceDate\"].max().reset_index()\n",
    "\n",
    "cur_date[\"last_purchase\"] = (recent_date-cur_date[\"InvoiceDate\"]).dt.days\n",
    "recency = cur_date.groupby(\"Customer ID\")[\"last_purchase\"].min().sort_index(ascending=True).reset_index()\n",
    "recency"
   ]
  },
  {
   "cell_type": "code",
   "execution_count": null,
   "id": "9ed63253",
   "metadata": {},
   "outputs": [],
   "source": [
    "rf = pd.merge(recency, frequency, on=\"Customer ID\")\n",
    "\n",
    "new_data = pd.merge(rf, sales_value, on=\"Customer ID\")\n",
    "\n",
    "new_data.head()"
   ]
  },
  {
   "cell_type": "code",
   "execution_count": null,
   "id": "58c9e8dc",
   "metadata": {},
   "outputs": [],
   "source": [
    "def add_label(data):\n",
    "    if data[\"last_purchase\"] < 30 and data[\"count\"] > 10 and data[\"Total Sales\"] > 1000:\n",
    "        return \"High_value\"\n",
    "    elif (data[\"last_purchase\"] < 60) and (data[\"count\"] > 5):\n",
    "        return \"Medium_value\"\n",
    "    else:\n",
    "        return \"Low_value\"\n",
    "\n",
    "new_data[\"Segment\"] = new_data.apply(add_label, axis=1)\n",
    "new_data.head()"
   ]
  },
  {
   "cell_type": "code",
   "execution_count": null,
   "id": "edbcc91b",
   "metadata": {},
   "outputs": [],
   "source": [
    "plt.figure(figsize=(12,8))\n",
    "\n",
    "plt.subplot(4,3,1)\n",
    "plt.scatter(x=new_data[\"Customer ID\"], y=new_data[\"Total Sales\"])\n",
    "plt.subplot(4,3,2)\n",
    "plt.scatter(x=new_data[\"Customer ID\"], y=new_data[\"last_purchase\"])\n",
    "plt.subplot(4,3,3)\n",
    "plt.scatter(x=new_data[\"Customer ID\"], y=new_data[\"count\"])\n"
   ]
  },
  {
   "cell_type": "code",
   "execution_count": null,
   "id": "8d97d97e",
   "metadata": {},
   "outputs": [],
   "source": [
    "from sklearn.preprocessing import LabelEncoder, StandardScaler\n",
    "\n",
    "le = LabelEncoder()\n",
    "\n",
    "y = le.fit_transform(new_data[\"Segment\"])"
   ]
  },
  {
   "cell_type": "code",
   "execution_count": null,
   "id": "0cc8e451",
   "metadata": {},
   "outputs": [],
   "source": [
    "scale = StandardScaler()\n",
    "\n",
    "x = scale.fit_transform(new_data[[\"last_purchase\", \"count\", \"Total Sales\"]])"
   ]
  },
  {
   "cell_type": "code",
   "execution_count": null,
   "id": "f97e9f63",
   "metadata": {},
   "outputs": [],
   "source": [
    "from sklearn.model_selection import train_test_split\n",
    "from sklearn.neighbors import KNeighborsClassifier\n",
    "\n",
    "x_train, x_test, y_train, y_test = train_test_split(x, y, train_size=0.8, random_state=47)\n",
    "\n",
    "knc = KNeighborsClassifier(n_neighbors=3)\n",
    "knc.fit(x_train, y_train)"
   ]
  },
  {
   "cell_type": "code",
   "execution_count": null,
   "id": "8cd01d2e",
   "metadata": {},
   "outputs": [],
   "source": [
    "from sklearn.metrics import accuracy_score, classification_report, confusion_matrix, roc_curve, roc_auc_score\n",
    "\n",
    "y_pred = knc.predict(x_test)\n",
    "print(accuracy_score(y_test,y_pred))\n",
    "print(classification_report(y_test,y_pred))\n",
    "#print(confusion_matrix(y_test,y_pred ))"
   ]
  },
  {
   "cell_type": "code",
   "execution_count": null,
   "id": "0251c5cc",
   "metadata": {},
   "outputs": [],
   "source": [
    "new_data"
   ]
  },
  {
   "cell_type": "code",
   "execution_count": null,
   "id": "6bfdefe8",
   "metadata": {},
   "outputs": [],
   "source": [
    "x1 = new_data[[\"last_purchase\", \"count\", \"Total Sales\"]]\n",
    "x1 = scale.fit_transform(x1[[\"last_purchase\", \"count\", \"Total Sales\"]])"
   ]
  },
  {
   "cell_type": "code",
   "execution_count": null,
   "id": "7db61056",
   "metadata": {},
   "outputs": [],
   "source": [
    "from sklearn.cluster import KMeans\n",
    "from sklearn.metrics import silhouette_score\n",
    "\n",
    "km = KMeans(n_clusters=3, init=\"k-means++\", random_state=47)\n",
    "km.fit(x)\n",
    "x_pred = km.predict(x)\n",
    "\n",
    "silhouette_score(x, x_pred)"
   ]
  },
  {
   "cell_type": "code",
   "execution_count": null,
   "id": "e500a01c",
   "metadata": {},
   "outputs": [],
   "source": [
    "wccs = []\n",
    "\n",
    "for i in range(1,11):\n",
    "    km = KMeans(n_clusters=i, init=\"k-means++\", random_state=47)\n",
    "    km.fit(x)\n",
    "    wccs.append(km.inertia_)\n",
    "wccs"
   ]
  },
  {
   "cell_type": "code",
   "execution_count": null,
   "id": "261ab7d9",
   "metadata": {},
   "outputs": [],
   "source": [
    "import seaborn as sns\n",
    "\n",
    "sns.lineplot(x=range(1,11), y=wccs, marker=\"o\", color=\"red\")"
   ]
  },
  {
   "cell_type": "code",
   "execution_count": null,
   "id": "fc8744a8",
   "metadata": {},
   "outputs": [],
   "source": [
    "km = KMeans(n_clusters=3, init=\"k-means++\", random_state=47)\n",
    "km.fit(x)\n",
    "x_pred = km.predict(x)"
   ]
  },
  {
   "cell_type": "code",
   "execution_count": null,
   "id": "d1bbee61",
   "metadata": {},
   "outputs": [],
   "source": [
    "plt.figure(figsize=(12,8))\n",
    "\n",
    "plt.subplot(4,3,1)\n",
    "plt.scatter(x=new_data[\"count\"], y=new_data[\"Total Sales\"], c=x_pred)\n",
    "plt.subplot(4,3,2)\n",
    "plt.scatter(x=new_data[\"count\"], y=new_data[\"last_purchase\"], c=x_pred)\n",
    "plt.subplot(4,3,3)\n",
    "plt.scatter(x=new_data[\"Total Sales\"], y=new_data[\"last_purchase\"], c=x_pred)"
   ]
  }
 ],
 "metadata": {
  "kernelspec": {
   "display_name": ".venv",
   "language": "python",
   "name": "python3"
  },
  "language_info": {
   "codemirror_mode": {
    "name": "ipython",
    "version": 3
   },
   "file_extension": ".py",
   "mimetype": "text/x-python",
   "name": "python",
   "nbconvert_exporter": "python",
   "pygments_lexer": "ipython3",
   "version": "3.12.3"
  }
 },
 "nbformat": 4,
 "nbformat_minor": 5
}
